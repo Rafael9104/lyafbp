{
 "cells": [
  {
   "cell_type": "code",
   "execution_count": null,
   "metadata": {},
   "outputs": [],
   "source": [
    "#Llamando al archivo del código xicosmo.py donde están hechas las definiciones para obtener xifull.\n",
    "from xicosmo_z234cmplt import *\n",
    "from numpy import *\n",
    "from itertools import product #Usado\n",
    "from matplotlib import colors\n",
    "import astropy.io.fits as ft #Repositorio de Python para leer archivos o  imagenes .fits\n",
    "import scipy.optimize as opt\n",
    "import emcee\n",
    "import corner\n",
    "from IPython.display import display, Math\n",
    "import pickle\n",
    "\n",
    "# Calling correlation and covariance data of another code\n",
    "cor=ft.open('cf_z_0_10-exp.fits.gz') #output\n",
    "correlation=cor['COR'].data['DA']\n",
    "covariance=cor['COR'].data['CO']\n",
    "distortion=cor['COR'].data['DM']"
   ]
  },
  {
   "cell_type": "markdown",
   "metadata": {},
   "source": [
    "# Definitions"
   ]
  },
  {
   "cell_type": "markdown",
   "metadata": {},
   "source": [
    "## $\\chi^2$"
   ]
  },
  {
   "cell_type": "code",
   "execution_count": null,
   "metadata": {},
   "outputs": [],
   "source": [
    "def conversion(rp, rt):\n",
    "    point = list(product(rp, rt))\n",
    "    #point=np.array(list(zip(rp, rt)))\n",
    "    rvec=np.array(point)\n",
    "    rplist=list()\n",
    "    for numb in range(len(point)):\n",
    "        rplaux=rvec[numb,0]\n",
    "        rplist.append(rplaux)\n",
    "    rpl=np.array(rplist)\n",
    "    rmagl=list()\n",
    "    for i in rvec:\n",
    "        raux=np.sqrt(i.dot(i))\n",
    "        rmagl.append(raux)\n",
    "    rmag=np.array(rmagl)\n",
    "    muklist=rpl/rmag\n",
    "    return rmag, muklist\n",
    "\n",
    "def ji2(parameters, rjlist, miuklist,  sigp, sigt, Apeak, kNL, kP, kv0, kV, aNL, aP, av, aV, Rp):\n",
    "    bF, beta, alphapl, alphapp = parameters\n",
    "    xicoslist = xifull(rjlist, miuklist, bF, beta, sigp, sigt, Apeak, kNL, kP, kv0, kV, aNL, aP, av, aV, Rp, alphapl, alphapp)\n",
    "    xicos=np.array(xicoslist)\n",
    "    xidistorted=np.dot(distortion, xicos)\n",
    "    correlation_vec=np.ndarray.flatten(correlation)\n",
    "    xiA=(correlation_vec - xidistorted)*mask\n",
    "    xiA.resize((1,2500), refcheck=False)\n",
    "    xiB=(correlation_vec - xidistorted)*mask \n",
    "    covariance_inv=np.linalg.inv(covariance)\n",
    "    return np.dot(np.dot(xiA,covariance_inv),xiB)"
   ]
  },
  {
   "cell_type": "markdown",
   "metadata": {},
   "source": [
    "## Minimization of $\\chi^2$"
   ]
  },
  {
   "cell_type": "code",
   "execution_count": null,
   "metadata": {},
   "outputs": [],
   "source": [
    "def lnprior(p):\n",
    "    # The parameters are stored as a vector of values, so unpack them\n",
    "    bF, beta, alphapl, alphapp = p\n",
    "    # We're using only uniform priors, and only eps has a lower bound\n",
    "    if bF >= 0:\n",
    "        return -np.inf\n",
    "    return 0\n",
    "\n",
    "def lnlike(p, rjlist, miuklist,  sigp, sigt, Apeak, kNL, kP, kv0, kV, aNL, aP, av, aV, Rp):\n",
    "    #bF, beta, alphap, alphat = p\n",
    "    return -0.5*ji2(p, rjlist, miuklist,  sigp, sigt, Apeak, kNL, kP, kv0, kV, aNL, aP, av, aV, Rp)\n",
    "\n",
    "def lnprob(p, rjlist, miuklist,  sigp, sigt, Apeak, kNL, kP, kv0, kV, aNL, aP, av, aV, Rp):\n",
    "    lp = lnprior(p)\n",
    "    if not isfinite(lp):\n",
    "        return -inf\n",
    "    return lp + lnlike(p, rjlist, miuklist,  sigp, sigt, Apeak, kNL, kP, kv0, kV, aNL, aP, av, aV, Rp)"
   ]
  },
  {
   "cell_type": "markdown",
   "metadata": {},
   "source": [
    "## $D_H/r_d$ and $D_A/r_d$ plots"
   ]
  },
  {
   "cell_type": "code",
   "execution_count": null,
   "metadata": {},
   "outputs": [],
   "source": [
    "def Hz(z, Om0, OmDE, H0):\n",
    "    return H0*np.sqrt(Om0*(1 + z)**3 + OmDE)\n",
    "\n",
    "def ratio_H(z, alphap, Om0, OmDE, H0, c, rd):\n",
    "    return (alphap*c)/(Hz(z, Om0, OmDE, H0)*rd)\n",
    "\n",
    "def f_H(z, Om0, OmDE, H0):\n",
    "    return Hz(z, Om0, OmDE, H0)/(1 + z)\n",
    "\n",
    "def point_H(z, alphap, Om0, OmDE, H0, c, rd):\n",
    "    return  c/((1 + z)*ratio_H(z, alphap, Om0, OmDE, H0, c, rd)*rd)\n",
    "\n",
    "#With uncertinties\n",
    "def dratio_H(z, Om0, OmDE, H0, alphap, dalphap, c, rd):\n",
    "    return (c*dalphap)/(rd*Hz(z, Om0, OmDE, H0))\n",
    "\n",
    "def dpoint_H(z, Om0, OmDE, H0, alphap, dalphap, c, rd, rdp, drdp):\n",
    "    return (c*(rdp*dratio_H(z, Om0, OmDE, H0, alphap, dalphap, c, rd) + ratio_H(z, alphap, Om0, OmDE, H0, c, rd)*drdp))/((1 + z)*(rdp*ratio_H(z, alphap, Om0, OmDE, H0, c, rd))**2)\n",
    "\n",
    "def argD_A(z, Om0, OmDE):\n",
    "    return 1/np.sqrt(Om0*(1 + z)**3 + OmDE)\n",
    "def D_A(Om0, OmDE, H0, c):\n",
    "    DAlist=list()\n",
    "    for i in z_H:\n",
    "        res, err = quad(argD_A, 0, i, args=(Om0, OmDE))\n",
    "        DAaux = res/(1 + i) \n",
    "        DAlist.append(DAaux)\n",
    "    DA=np.array(DAlist)\n",
    "    return (c/(H0*1e+3))*DA \n",
    "\n",
    "def ratio_A(z, alphat, Om0, OmDE, H0, c, rd):\n",
    "    res, err = quad(argD_A, 0, z, args=(Om0, OmDE))\n",
    "    return ((alphat*c)/(H0*rd))*(res/(1 + z))\n",
    "\n",
    "def point_A(z, alphat, Om0, OmDE, H0, c, rd, rdp):\n",
    "    return (ratio_A(z, alphat, Om0, OmDE, H0, c, rd)*rdp)/1e+3\n",
    "\n",
    "#With uncertinties\n",
    "def dratio_A(z, alphat, dalphat, Om0, OmDE, H0, c, rd):\n",
    "    res, err = quad(argD_A, 0, z, args=(Om0, OmDE))\n",
    "    return (c*dalphat*res)/(H0*rd*(1 + z))\n",
    "\n",
    "def dpoint_A(z, alphat, dalphat, Om0, OmDE, H0, c, rd, rdp, drdp):\n",
    "    return (rdp*dratio_A(z, alphat, dalphat, Om0, OmDE, H0, c, rd) + ratio_A(z, alphat, Om0, OmDE, H0, c, rd)*drdp)/1e+3"
   ]
  },
  {
   "cell_type": "markdown",
   "metadata": {},
   "source": [
    "## Probability of $\\chi^2$"
   ]
  },
  {
   "cell_type": "code",
   "execution_count": null,
   "metadata": {},
   "outputs": [],
   "source": [
    "def argProb(ji2, nu):\n",
    "    return np.exp(-((ji2 - nu)**2/(4*nu)))\n",
    "\n",
    "def Prob(nu, ji20):\n",
    "    res, err = quad(argProb, ji20, np.inf, args=(nu,))\n",
    "    return res/np.sqrt(4*np.pi*nu)"
   ]
  },
  {
   "cell_type": "markdown",
   "metadata": {},
   "source": [
    "# Obtention of $\\chi^2$ and the parameters $b_F$, $\\beta$, $\\alpha_p$, $\\alpha_t$"
   ]
  },
  {
   "cell_type": "code",
   "execution_count": null,
   "metadata": {},
   "outputs": [],
   "source": [
    "#Determinando rp y rt\n",
    "r_max=200\n",
    "bin_size=4 #El tamaño de separación de los \"bines\" es de 4 Mpc/h\n",
    "rp=np.arange(0, r_max, bin_size) + (bin_size/2)\n",
    "rt=np.arange(0, r_max, bin_size) + (bin_size/2)\n",
    "r, muk = conversion(rp, rt)\n",
    "\n",
    "mask=(40<r)*(r<180)\n",
    "np.sum(mask)\n",
    "\n",
    "p = bF_true, beta_true, alphap_true, alphat_true"
   ]
  },
  {
   "cell_type": "code",
   "execution_count": null,
   "metadata": {},
   "outputs": [],
   "source": [
    "#Obtención de la lista de xilsmooth y xilpeak\n",
    "start=time.time() #Toma el tiempo de ejecución del código\n",
    "ji_2 = ji2(p, r, muk, sigp, sigt, Apeak, kNL, kP, kv0, kV, aNL, aP, av, aV, Rp)\n",
    "print(ji_2)\n",
    "end=time.time()\n",
    "print(\"The time of execution of above program is :\", end-start)"
   ]
  },
  {
   "cell_type": "code",
   "execution_count": null,
   "metadata": {},
   "outputs": [],
   "source": [
    "#Obtención de la lista de xilsmooth y xilpeak\n",
    "start=time.time() #Toma el tiempo de ejecución del código\n",
    "xicosmodel=xifull(r, muk, bF_true, beta_true, sigp, sigt, Apeak, kNL, kP, kv0, kV, aNL, aP, av, aV, Rp, alphap_true, alphat_true)\n",
    "xicosmodel=np.array(xicosmodel)\n",
    "end=time.time()\n",
    "print(\"The time of execution of above program is :\", end-start)"
   ]
  },
  {
   "cell_type": "code",
   "execution_count": null,
   "metadata": {},
   "outputs": [],
   "source": [
    "#rp_cut=rp[3:45]\n",
    "#rt_cut=rp[3:45]\n",
    "#print(rp_cut)\n",
    "#print(rt_cut)"
   ]
  },
  {
   "cell_type": "code",
   "execution_count": null,
   "metadata": {},
   "outputs": [],
   "source": [
    "xidistorted=np.dot(distortion, xicosmodel)\n",
    "xidistorted.resize((50,50), refcheck=False)\n",
    "ximin, ximax=-2.5, 1.0\n",
    "normxi=colors.Normalize(vmin=ximin, vmax=ximax)\n",
    "rpp, rpl = np.meshgrid(rt, rp)"
   ]
  },
  {
   "cell_type": "code",
   "execution_count": null,
   "metadata": {},
   "outputs": [],
   "source": [
    "#Observational data\n",
    "correlation.reshape((50,50))"
   ]
  },
  {
   "cell_type": "code",
   "execution_count": null,
   "metadata": {},
   "outputs": [],
   "source": [
    "plt.figure(figsize=(8,6))\n",
    "plt.yticks(fontsize=14)\n",
    "plt.xticks(fontsize=14)\n",
    "plt.pcolormesh(rpp,rpl,(rpp**2 + rpl**2)*xidistorted, norm=normxi, cmap='RdYlBu')\n",
    "plt.colorbar(norm=normxi)\n",
    "plt.show()"
   ]
  },
  {
   "cell_type": "code",
   "execution_count": null,
   "metadata": {},
   "outputs": [],
   "source": [
    "plt.figure(figsize=(8,6))\n",
    "plt.yticks(fontsize=14)\n",
    "plt.xticks(fontsize=14)\n",
    "plt.pcolormesh(rpp,rpl,(rpp**2 + rpl**2)*correlation.reshape((50,50)), norm=normxi, cmap='RdYlBu')\n",
    "plt.colorbar(norm=normxi)\n",
    "plt.show()"
   ]
  },
  {
   "cell_type": "code",
   "execution_count": null,
   "metadata": {},
   "outputs": [],
   "source": [
    "#Minimization of \\chi^2\n",
    "start=time.time() #Toma el tiempo de ejecución del código\n",
    "nll = lambda *args: -lnlike(*args)\n",
    "result = opt.minimize(nll, [bF_true, beta_true, alphap_true, alphat_true], args=(r, muk, sigp, sigt, Apeak, kNL, kP, kv0, kV, aNL, aP, av, aV, Rp))\n",
    "print(result['x'])\n",
    "end=time.time()\n",
    "print(\"The time of execution of above program is :\", end-start)"
   ]
  },
  {
   "cell_type": "code",
   "execution_count": null,
   "metadata": {},
   "outputs": [],
   "source": [
    "result = -0.18593177, 0.94885598, 1.05274459, 1.01998324\n",
    "bF_min, beta_min, alphap_min, alphat_min = result"
   ]
  },
  {
   "cell_type": "code",
   "execution_count": null,
   "metadata": {},
   "outputs": [],
   "source": [
    "#Obtention of \\chi^2 with minimized values\n",
    "#Obtención de la lista de xilsmooth y xilpeak\n",
    "start=time.time() #Toma el tiempo de ejecución del código\n",
    "ji_22 = ji2(result, r, muk, sigp, sigt, Apeak, kNL, kP, kv0, kV, aNL, aP, av, aV, Rp)\n",
    "print(ji_22)\n",
    "end=time.time()\n",
    "print(\"The time of execution of above program is :\", end-start)"
   ]
  },
  {
   "cell_type": "code",
   "execution_count": null,
   "metadata": {},
   "outputs": [],
   "source": [
    "#Obtención de la lista de xilsmooth y xilpeak\n",
    "start=time.time() #Toma el tiempo de ejecución del código\n",
    "xicosmodel_2=xifull(r, muk, bF_min, beta_min, sigp, sigt, Apeak, kNL, kP, kv0, kV, aNL, aP, av, aV, Rp, alphap_min, alphat_min)\n",
    "xicosmodel=np.array(xicosmodel)\n",
    "end=time.time()\n",
    "print(\"The time of execution of above program is :\", end-start)"
   ]
  },
  {
   "cell_type": "code",
   "execution_count": null,
   "metadata": {},
   "outputs": [],
   "source": [
    "xidistorted_2=np.dot(distortion, xicosmodel_2)\n",
    "xidistorted_2.resize((50,50), refcheck=False)\n",
    "\n",
    "plt.figure(figsize=(8,6))\n",
    "plt.yticks(fontsize=14)\n",
    "plt.xticks(fontsize=14)\n",
    "plt.pcolormesh(rpp,rpl,(rpp**2 + rpl**2)*xidistorted_2, norm=normxi, cmap='RdYlBu')\n",
    "plt.colorbar(norm=normxi)\n",
    "plt.show()"
   ]
  },
  {
   "cell_type": "code",
   "execution_count": null,
   "metadata": {},
   "outputs": [],
   "source": [
    "Nwalker, Ndim = 32, 4\n",
    "p0 = [result + 1.e-4*random.randn(Ndim) for i in range(Nwalker)]"
   ]
  },
  {
   "cell_type": "code",
   "execution_count": null,
   "metadata": {},
   "outputs": [],
   "source": [
    "start=time.time() #Toma el tiempo de ejecución del código\n",
    "sampler = emcee.EnsembleSampler(Nwalker, Ndim, lnprob, args=(r, muk, sigp, sigt, Apeak, kNL, kP, kv0, kV, aNL, aP, av, aV, Rp))\n",
    "sampler.run_mcmc(p0, 500, progress=True)\n",
    "end=time.time()\n",
    "print(\"The time of execution of above program is :\", end-start)"
   ]
  },
  {
   "cell_type": "code",
   "execution_count": null,
   "metadata": {},
   "outputs": [],
   "source": [
    "with open('sampler.pickle', 'wb') as f:\n",
    "    pickle.dump(sampler, f)"
   ]
  },
  {
   "cell_type": "code",
   "execution_count": null,
   "metadata": {},
   "outputs": [],
   "source": [
    "with open('sampler.pickle', 'rb') as f:\n",
    "    sampler = pickle.load(f)"
   ]
  },
  {
   "cell_type": "code",
   "execution_count": null,
   "metadata": {},
   "outputs": [],
   "source": [
    "#Para 32 Nwalker para un camino de 500.\n",
    "fig, axes = plt.subplots(4, figsize=(10, 7), sharex=True)\n",
    "plt.xticks(fontsize=14)\n",
    "font1={'size':16}\n",
    "font2={'family':'serif','size':20}\n",
    "samples = sampler.get_chain()\n",
    "labels = [\"$b_F$\", \"\\u03B2\", \"\\u03B1$_p$\", \"\\u03B1$_t$\"]\n",
    "for l in range(Ndim):\n",
    "    ax = axes[l]\n",
    "    ax.plot(samples[:, :, l], \"k\", alpha=0.3)\n",
    "    ax.set_xlim(0, len(samples))\n",
    "    ax.set_ylabel(labels[l], fontdict=font1)\n",
    "    ax.yaxis.set_label_coords(-0.1, 0.5)\n",
    "    plt.yticks(fontsize=14)\n",
    "\n",
    "axes[-1].set_xlabel(\"step number\", fontdict=font2);"
   ]
  },
  {
   "cell_type": "code",
   "execution_count": null,
   "metadata": {},
   "outputs": [],
   "source": [
    "#..we can look at an estimate of the integrated autocorrelation time\n",
    "tau = sampler.get_autocorr_time()\n",
    "print(tau)"
   ]
  },
  {
   "cell_type": "code",
   "execution_count": null,
   "metadata": {},
   "outputs": [],
   "source": [
    "flat_samples = sampler.get_chain(discard=50, thin=15, flat=True)\n",
    "print(flat_samples.shape)"
   ]
  },
  {
   "cell_type": "code",
   "execution_count": null,
   "metadata": {},
   "outputs": [],
   "source": [
    "#Para 32 Nwalker para un camino de 500, tercera ronda.\n",
    "fig2 = corner.corner(sampler.flatchain, labels=labels)"
   ]
  },
  {
   "cell_type": "code",
   "execution_count": null,
   "metadata": {},
   "outputs": [],
   "source": [
    "#Incertidumbres obtenidas con percentile, que nos dice la forma de la distribución de los parámetros. \n",
    "#Estas incertidumbres serán reportadas en la tesis.\n",
    "labels2 = [\"bF\", \"\\u03B2\", \"\\u03B1_p\", \"\\u03B1_t\"]\n",
    "for i in range(Ndim):\n",
    "    mcmc = np.percentile(flat_samples[:, i], [16, 50, 84])\n",
    "    q = np.diff(mcmc)\n",
    "    txt = \"\\mathrm{{{3}}} = {0:.3f}_{{-{1:.3f}}}^{{+{2:.3f}}}\"\n",
    "    txt = txt.format(mcmc[1], q[0], q[1], labels2[i])\n",
    "    display(Math(txt))"
   ]
  },
  {
   "cell_type": "code",
   "execution_count": null,
   "metadata": {},
   "outputs": [],
   "source": [
    "#Incertidumbres obtenidas con standard deviation, lo cual nos da unas incertidumbres simétricas.\n",
    "#Estas incertidumbres serán usadas en las gráficas.\n",
    "labels2 = [\"bF\", \"\\u03B2\", \"\\u03B1_p\", \"\\u03B1_t\"]\n",
    "for i in range(Ndim):\n",
    "    mcmc = np.percentile(flat_samples[:, i], [16, 50, 84])\n",
    "    standard=np.std(flat_samples[:, i])\n",
    "    txt = \"\\mathrm{{{2}}} = {0:.3f}{{\\u00B1}}{1:.3f}\"\n",
    "    txt = txt.format(mcmc[1], standard, labels2[i])\n",
    "    display(Math(txt))"
   ]
  },
  {
   "cell_type": "markdown",
   "metadata": {},
   "source": [
    "# Obtention of $D_H/r_d$, $D_A/r_d$ and plots"
   ]
  },
  {
   "cell_type": "code",
   "execution_count": null,
   "metadata": {},
   "outputs": [],
   "source": [
    "#Parameters\n",
    "z_H=np.linspace(0,3,1000)\n",
    "\n",
    "#Obtained values of Planck collaboration 2018\n",
    "Om0=0.3153\n",
    "dOm0=0.0073\n",
    "OmDE=0.6847\n",
    "dOmDE=0.0073\n",
    "H0=67.36\n",
    "dH0=0.54\n",
    "Ombh2=0.02237\n",
    "dOmbh2=0.00015\n",
    "h=0.7\n",
    "c=3e+5 #km/s\n",
    "z_drag_model=1060\n",
    "rd_fid=147.09 #Planck value without uncertintie\n",
    "rd_planck=147.09\n",
    "drd_planck=0.26\n",
    "z_Lya=2.34\n",
    "\n",
    "dalphap_min=0.037\n",
    "dalphat_min=0.073"
   ]
  },
  {
   "cell_type": "code",
   "execution_count": null,
   "metadata": {},
   "outputs": [],
   "source": [
    "ratioH = ratio_H(z_Lya, alphap_min, Om0, OmDE, H0, c, rd_fid)\n",
    "dratioH = dratio_H(z_Lya, Om0, OmDE, H0, alphap_min, dalphap_min, c, rd_fid)\n",
    "\n",
    "txt = \"\\mathrm{{{0}}} = {1:.2f}{{\\u00B1}}{2:.2f}\"\n",
    "txt = txt.format('D_H(z=2.34)/r_d', ratioH, dratioH)\n",
    "display(Math(txt))"
   ]
  },
  {
   "cell_type": "code",
   "execution_count": null,
   "metadata": {},
   "outputs": [],
   "source": [
    "ratioA = ratio_A(z_Lya, alphat_min, Om0, OmDE, H0, c, rd_fid)\n",
    "dratioA = dratio_A(z_Lya, alphat_min, dalphat_min, Om0, OmDE, H0, c, rd_fid)\n",
    "\n",
    "txt = \"\\mathrm{{{0}}} = {1:.2f}{{\\u00B1}}{2:.2f}\"\n",
    "txt = txt.format('D_A(z=2.34)/r_d', ratioA, dratioA)\n",
    "display(Math(txt))"
   ]
  },
  {
   "cell_type": "code",
   "execution_count": null,
   "metadata": {},
   "outputs": [],
   "source": [
    "fHvalues = f_H(z_H, Om0, OmDE, H0)\n",
    "DHLya = point_H(z_Lya, alphap_min, Om0, OmDE, H0, c, rd_fid)\n",
    "dHerror = dpoint_H(z_Lya, Om0, OmDE, H0, alphap_min, dalphap_min, c, rd_fid, rd_planck, drd_planck)\n",
    "\n",
    "plt.figure(figsize=(10,7))\n",
    "ax = plt.subplot(111)\n",
    "plt.yticks(fontsize=14)\n",
    "plt.xticks(fontsize=14)\n",
    "font1={'size':16}\n",
    "font2={'family':'serif','size':20}\n",
    "plt.xlabel('$z$', fontdict=font1)\n",
    "plt.ylabel('$H(z)/(1 + z)$ [km/s/Mpc]', fontdict=font1)\n",
    "plt.title('Hubble distance', fontdict=font2)\n",
    "#plt.grid()\n",
    "plt.plot(z_H, fHvalues, color = 'blue')\n",
    "plt.errorbar(z_Lya, DHLya, yerr=dHerror, fmt=\"o\", color = 'red', capsize=10)\n",
    "plt.ylim(55, 80)\n",
    "plt.show()"
   ]
  },
  {
   "cell_type": "code",
   "execution_count": null,
   "metadata": {},
   "outputs": [],
   "source": [
    "DAvalues = D_A(Om0, OmDE, H0, c)\n",
    "DALya = point_A(z_Lya, alphat_min, Om0, OmDE, H0, c, rd_fid, rd_planck)\n",
    "dAerror = dpoint_A(z_Lya, alphat_min, dalphat_min, Om0, OmDE, H0, c, rd_fid, rd_planck, drd_planck)\n",
    "\n",
    "plt.figure(figsize=(10,7))\n",
    "ax = plt.subplot(111)\n",
    "plt.yticks(fontsize=14)\n",
    "plt.xticks(fontsize=14)\n",
    "font1={'size':16}\n",
    "font2={'family':'serif','size':20}\n",
    "plt.xlabel('$z$', fontdict=font1)\n",
    "plt.ylabel('$D_A(z)$ [Gpc]', fontdict=font1)\n",
    "plt.title('Transverse size', fontdict=font2)\n",
    "#plt.grid()\n",
    "plt.plot(z_H, DAvalues, color = 'blue')\n",
    "plt.errorbar(z_Lya, DALya, yerr=dAerror, fmt=\"o\", color = 'red', capsize=10)\n",
    "plt.ylim(0, 2)\n",
    "plt.show()"
   ]
  },
  {
   "cell_type": "markdown",
   "metadata": {},
   "source": [
    "# Probability of $\\chi^2$"
   ]
  },
  {
   "cell_type": "code",
   "execution_count": null,
   "metadata": {},
   "outputs": [],
   "source": [
    "nu = 1515 - Ndim\n",
    "Prob_ji2 = Prob(nu, ji_22)\n",
    "print(\"The probability is:\", Prob_ji2)"
   ]
  },
  {
   "cell_type": "code",
   "execution_count": null,
   "metadata": {},
   "outputs": [],
   "source": []
  }
 ],
 "metadata": {
  "kernelspec": {
   "display_name": "Python 3 (ipykernel)",
   "language": "python",
   "name": "python3"
  },
  "language_info": {
   "codemirror_mode": {
    "name": "ipython",
    "version": 3
   },
   "file_extension": ".py",
   "mimetype": "text/x-python",
   "name": "python",
   "nbconvert_exporter": "python",
   "pygments_lexer": "ipython3",
   "version": "3.13.7"
  }
 },
 "nbformat": 4,
 "nbformat_minor": 4
}
